{
 "cells": [
  {
   "cell_type": "markdown",
   "metadata": {},
   "source": [
    "# Decision Trees Project using iris data set"
   ]
  },
  {
   "cell_type": "markdown",
   "metadata": {},
   "source": [
    "#Decision Trees are a non-parametric supervised learning method used for both classification and regression tasks. The goal is to create a model that predicts the value of a target variable by learning simple decision rules inferred from the data features."
   ]
  },
  {
   "cell_type": "markdown",
   "metadata": {},
   "source": [
    "Importing datasets from sklearn"
   ]
  },
  {
   "cell_type": "code",
   "execution_count": 1,
   "metadata": {},
   "outputs": [],
   "source": [
    "from sklearn import datasets\n",
    "import pandas as pd"
   ]
  },
  {
   "cell_type": "markdown",
   "metadata": {},
   "source": [
    "Loading Iris data_sets"
   ]
  },
  {
   "cell_type": "code",
   "execution_count": 2,
   "metadata": {},
   "outputs": [],
   "source": [
    "iris=datasets.load_iris()"
   ]
  },
  {
   "cell_type": "markdown",
   "metadata": {},
   "source": [
    "A Data frame is a two-dimensional data structure, i.e., data is aligned in a tabular fashion in rows and columns."
   ]
  },
  {
   "cell_type": "code",
   "execution_count": 3,
   "metadata": {},
   "outputs": [
    {
     "name": "stdout",
     "output_type": "stream",
     "text": [
      "sl\n",
      "sw\n",
      "pl\n",
      "pw\n"
     ]
    }
   ],
   "source": [
    "df=pd.DataFrame(iris.data)   #Loding data in DATAFrame\n",
    "df.columns=[\"sl\", \"sw\", 'pl', 'pw']     # defining label of  Featured coloums in above iris data sets\n",
    "x=list(df.columns)      \n",
    "for i in x:\n",
    "    print(i)"
   ]
  },
  {
   "cell_type": "markdown",
   "metadata": {},
   "source": [
    "Loading iris.target into a pandas Data Frame "
   ]
  },
  {
   "cell_type": "code",
   "execution_count": 4,
   "metadata": {},
   "outputs": [
    {
     "name": "stdout",
     "output_type": "stream",
     "text": [
      "   target\n",
      "0       0\n",
      "1       0\n",
      "2       0\n",
      "3       0\n",
      "4       0\n"
     ]
    }
   ],
   "source": [
    "\n",
    "y=pd.DataFrame(iris.target)\n",
    "y.columns=[\"target\"]\n",
    "print(y.head())"
   ]
  },
  {
   "cell_type": "markdown",
   "metadata": {},
   "source": [
    "Function to convert a continuous data into labelled data"
   ]
  },
  {
   "cell_type": "code",
   "execution_count": 5,
   "metadata": {},
   "outputs": [],
   "source": [
    "#Function to find label for a value\n",
    "#if MIN_Value <=val < (m + Mean_Value) / 2 then it is assigned label a\n",
    "#if (m + Mean_Value) <=val < Mean_Value then it is assigned label b\n",
    "#if (Mean_Value) <=val < (Mean_Value + MAX_Value)/2 then it is assigned label c\n",
    "#if (Mean_Value + MAX_Value)/2 <=val <= MAX_Value  then it is assigned label d\n",
    "\n",
    "def label(val, *boundaries):                   #Function to convert a continuous data into labelled data\n",
    "    if (val < boundaries[0]):                   #There are 4 lables  - a, b, c, d\n",
    "        return 'a'\n",
    "    elif (val < boundaries[1]):\n",
    "        return 'b'\n",
    "    elif (val < boundaries[2]):\n",
    "        return 'c'\n",
    "    else:\n",
    "        return 'd'\n",
    "\n",
    "#Function to convert a continuous data into labelled data\n",
    "#There are 4 lables  - a, b, c, d\n",
    "def toLabel(df, old_feature_name):\n",
    "    second = df[old_feature_name].mean()\n",
    "    minimum = df[old_feature_name].min()\n",
    "    first = (minimum + second)/2\n",
    "    maximum = df[old_feature_name].max()\n",
    "    third = (maximum + second)/2\n",
    "    return df[old_feature_name].apply(label, args= (first, second, third))"
   ]
  },
  {
   "cell_type": "markdown",
   "metadata": {},
   "source": [
    "Convert all columns to labelled data"
   ]
  },
  {
   "cell_type": "code",
   "execution_count": 6,
   "metadata": {},
   "outputs": [],
   "source": [
    "#Convert all columns to labelled data\n",
    "\n",
    "df['sl_labeled'] = toLabel(df, 'sl')\n",
    "df['sw_labeled'] = toLabel(df, 'sw')\n",
    "df['pl_labeled'] = toLabel(df, 'pl')\n",
    "df['pw_labeled'] = toLabel(df, 'pw')\n",
    "\n"
   ]
  },
  {
   "cell_type": "markdown",
   "metadata": {},
   "source": [
    "Concatinating the Target Data of iris dataset with the df(X train dataframe)"
   ]
  },
  {
   "cell_type": "code",
   "execution_count": 7,
   "metadata": {},
   "outputs": [
    {
     "data": {
      "text/html": [
       "<div>\n",
       "<style scoped>\n",
       "    .dataframe tbody tr th:only-of-type {\n",
       "        vertical-align: middle;\n",
       "    }\n",
       "\n",
       "    .dataframe tbody tr th {\n",
       "        vertical-align: top;\n",
       "    }\n",
       "\n",
       "    .dataframe thead th {\n",
       "        text-align: right;\n",
       "    }\n",
       "</style>\n",
       "<table border=\"1\" class=\"dataframe\">\n",
       "  <thead>\n",
       "    <tr style=\"text-align: right;\">\n",
       "      <th></th>\n",
       "      <th>sl</th>\n",
       "      <th>sw</th>\n",
       "      <th>pl</th>\n",
       "      <th>pw</th>\n",
       "      <th>sl_labeled</th>\n",
       "      <th>sw_labeled</th>\n",
       "      <th>pl_labeled</th>\n",
       "      <th>pw_labeled</th>\n",
       "      <th>target</th>\n",
       "    </tr>\n",
       "  </thead>\n",
       "  <tbody>\n",
       "    <tr>\n",
       "      <th>0</th>\n",
       "      <td>5.1</td>\n",
       "      <td>3.5</td>\n",
       "      <td>1.4</td>\n",
       "      <td>0.2</td>\n",
       "      <td>b</td>\n",
       "      <td>c</td>\n",
       "      <td>a</td>\n",
       "      <td>a</td>\n",
       "      <td>0</td>\n",
       "    </tr>\n",
       "    <tr>\n",
       "      <th>1</th>\n",
       "      <td>4.9</td>\n",
       "      <td>3.0</td>\n",
       "      <td>1.4</td>\n",
       "      <td>0.2</td>\n",
       "      <td>a</td>\n",
       "      <td>b</td>\n",
       "      <td>a</td>\n",
       "      <td>a</td>\n",
       "      <td>0</td>\n",
       "    </tr>\n",
       "    <tr>\n",
       "      <th>2</th>\n",
       "      <td>4.7</td>\n",
       "      <td>3.2</td>\n",
       "      <td>1.3</td>\n",
       "      <td>0.2</td>\n",
       "      <td>a</td>\n",
       "      <td>c</td>\n",
       "      <td>a</td>\n",
       "      <td>a</td>\n",
       "      <td>0</td>\n",
       "    </tr>\n",
       "    <tr>\n",
       "      <th>3</th>\n",
       "      <td>4.6</td>\n",
       "      <td>3.1</td>\n",
       "      <td>1.5</td>\n",
       "      <td>0.2</td>\n",
       "      <td>a</td>\n",
       "      <td>c</td>\n",
       "      <td>a</td>\n",
       "      <td>a</td>\n",
       "      <td>0</td>\n",
       "    </tr>\n",
       "    <tr>\n",
       "      <th>4</th>\n",
       "      <td>5.0</td>\n",
       "      <td>3.6</td>\n",
       "      <td>1.4</td>\n",
       "      <td>0.2</td>\n",
       "      <td>a</td>\n",
       "      <td>c</td>\n",
       "      <td>a</td>\n",
       "      <td>a</td>\n",
       "      <td>0</td>\n",
       "    </tr>\n",
       "  </tbody>\n",
       "</table>\n",
       "</div>"
      ],
      "text/plain": [
       "    sl   sw   pl   pw sl_labeled sw_labeled pl_labeled pw_labeled  target\n",
       "0  5.1  3.5  1.4  0.2          b          c          a          a       0\n",
       "1  4.9  3.0  1.4  0.2          a          b          a          a       0\n",
       "2  4.7  3.2  1.3  0.2          a          c          a          a       0\n",
       "3  4.6  3.1  1.5  0.2          a          c          a          a       0\n",
       "4  5.0  3.6  1.4  0.2          a          c          a          a       0"
      ]
     },
     "execution_count": 7,
     "metadata": {},
     "output_type": "execute_result"
    }
   ],
   "source": [
    "df[\"target\"]=iris.target\n",
    "df.head()"
   ]
  },
  {
   "cell_type": "markdown",
   "metadata": {},
   "source": [
    "Deleting all continous Data columns from the df (Data Frame)"
   ]
  },
  {
   "cell_type": "code",
   "execution_count": 8,
   "metadata": {},
   "outputs": [
    {
     "data": {
      "text/html": [
       "<div>\n",
       "<style scoped>\n",
       "    .dataframe tbody tr th:only-of-type {\n",
       "        vertical-align: middle;\n",
       "    }\n",
       "\n",
       "    .dataframe tbody tr th {\n",
       "        vertical-align: top;\n",
       "    }\n",
       "\n",
       "    .dataframe thead th {\n",
       "        text-align: right;\n",
       "    }\n",
       "</style>\n",
       "<table border=\"1\" class=\"dataframe\">\n",
       "  <thead>\n",
       "    <tr style=\"text-align: right;\">\n",
       "      <th></th>\n",
       "      <th>sl_labeled</th>\n",
       "      <th>sw_labeled</th>\n",
       "      <th>pl_labeled</th>\n",
       "      <th>pw_labeled</th>\n",
       "      <th>target</th>\n",
       "    </tr>\n",
       "  </thead>\n",
       "  <tbody>\n",
       "    <tr>\n",
       "      <th>0</th>\n",
       "      <td>b</td>\n",
       "      <td>c</td>\n",
       "      <td>a</td>\n",
       "      <td>a</td>\n",
       "      <td>0</td>\n",
       "    </tr>\n",
       "    <tr>\n",
       "      <th>1</th>\n",
       "      <td>a</td>\n",
       "      <td>b</td>\n",
       "      <td>a</td>\n",
       "      <td>a</td>\n",
       "      <td>0</td>\n",
       "    </tr>\n",
       "    <tr>\n",
       "      <th>2</th>\n",
       "      <td>a</td>\n",
       "      <td>c</td>\n",
       "      <td>a</td>\n",
       "      <td>a</td>\n",
       "      <td>0</td>\n",
       "    </tr>\n",
       "    <tr>\n",
       "      <th>3</th>\n",
       "      <td>a</td>\n",
       "      <td>c</td>\n",
       "      <td>a</td>\n",
       "      <td>a</td>\n",
       "      <td>0</td>\n",
       "    </tr>\n",
       "    <tr>\n",
       "      <th>4</th>\n",
       "      <td>a</td>\n",
       "      <td>c</td>\n",
       "      <td>a</td>\n",
       "      <td>a</td>\n",
       "      <td>0</td>\n",
       "    </tr>\n",
       "  </tbody>\n",
       "</table>\n",
       "</div>"
      ],
      "text/plain": [
       "  sl_labeled sw_labeled pl_labeled pw_labeled  target\n",
       "0          b          c          a          a       0\n",
       "1          a          b          a          a       0\n",
       "2          a          c          a          a       0\n",
       "3          a          c          a          a       0\n",
       "4          a          c          a          a       0"
      ]
     },
     "execution_count": 8,
     "metadata": {},
     "output_type": "execute_result"
    }
   ],
   "source": [
    "del df[\"sl\"]\n",
    "del df[\"sw\"]\n",
    "del df[\"pl\"]\n",
    "del df[\"pw\"]\n",
    "df.head()"
   ]
  },
  {
   "cell_type": "markdown",
   "metadata": {},
   "source": [
    "Making a copy of df (dataFrame)"
   ]
  },
  {
   "cell_type": "code",
   "execution_count": 9,
   "metadata": {},
   "outputs": [],
   "source": [
    "df_new=df.copy()"
   ]
  },
  {
   "cell_type": "markdown",
   "metadata": {},
   "source": [
    "importing Math for the further calculations"
   ]
  },
  {
   "cell_type": "code",
   "execution_count": 10,
   "metadata": {},
   "outputs": [],
   "source": [
    "import math"
   ]
  },
  {
   "cell_type": "markdown",
   "metadata": {},
   "source": [
    "Entropy : A decision tree is built top-down from a root node and involves partitioning the data into subsets that contain instances with similar values (homogeneous). ID3 algorithm uses entropy to calculate the homogeneity of a sample."
   ]
  },
  {
   "cell_type": "code",
   "execution_count": 11,
   "metadata": {},
   "outputs": [],
   "source": [
    "# Funtion for calculating  the Entropy of the a particular Node in the Tree\n",
    "\n",
    "def Entropy(df_new,feature):\n",
    "    entropy=0\n",
    "    Total_val=df_new.target.count()\n",
    "    \n",
    "    for i in set(df_new[\"target\"]):\n",
    "        i_group_counts=df_new[df_new[\"target\"]==i].target.count()\n",
    "        if i_group_counts!=0:\n",
    "            entropy+=-((i_group_counts/Total_val)*(math.log(i_group_counts/Total_val,2)))\n",
    "            \n",
    "    return entropy"
   ]
  },
  {
   "cell_type": "code",
   "execution_count": 12,
   "metadata": {},
   "outputs": [
    {
     "data": {
      "text/plain": [
       "1.584962500721156"
      ]
     },
     "execution_count": 12,
     "metadata": {},
     "output_type": "execute_result"
    }
   ],
   "source": [
    "Entropy(df_new,'pw_labeled')"
   ]
  },
  {
   "cell_type": "markdown",
   "metadata": {},
   "source": [
    "Gain ratio:In decision tree learning, Information gain ratio is a ratio of information gain to the split information"
   ]
  },
  {
   "cell_type": "code",
   "execution_count": 13,
   "metadata": {},
   "outputs": [],
   "source": [
    "def Gain_ratio(df_new,feature):\n",
    "    orig_en=Entropy(df_new,feature)\n",
    "    info_gain=0\n",
    "    split_info=0\n",
    "    ol=df.target.count()\n",
    "    xn=0\n",
    "    \n",
    "    for i in set(df_new[feature]):\n",
    "        op=df_new[df_new[feature]==i]\n",
    "        lp=op.target.count()\n",
    "        split_info+=-(lp/ol)*math.log(lp/ol,2)\n",
    "        xn+=(lp/ol)*Entropy(op,i)\n",
    "    if split_info==0:\n",
    "        return 0\n",
    "    else:\n",
    "         return (orig_en-xn)/split_info"
   ]
  },
  {
   "cell_type": "code",
   "execution_count": 14,
   "metadata": {},
   "outputs": [],
   "source": [
    "def build_tree(df_new, unused_features,level):\n",
    "    if len(set(df_new[\"target\"]))==1:\n",
    "        print(\"level:\",level)\n",
    "        for i in set(df_new.target):\n",
    "            print(\"count of \",str(i) ,\"=\",df_new[df_new['target']==i].target.count())\n",
    "        print(\"Current Entropy is = \",0.0)   \n",
    "        print(\"Reached leaf Node\")\n",
    "        print()\n",
    "        return \n",
    "    if len(unused_features)==0:\n",
    "        print(\"level:\",level)\n",
    "        for i in set(df_new.target):\n",
    "            print(\"count of \",str(i) ,\"=\",df_new[df_new['target']==i].target.count())\n",
    "        print(\"Current Entropy is = \",0.0)   \n",
    "        print(\"Reached leaf Node\")\n",
    "        print()\n",
    "        return \n",
    "    best_feature = \"\"\n",
    "    maxgain=-1000\n",
    "    for f in unused_features:\n",
    "        possible_values = set(df_new[f])\n",
    "        for val in possible_values:         # loop over possible values : val\n",
    "            sd=df_new[df_new[f]==val]     # find subset of df & y with f == val\n",
    "            gain=Gain_ratio(df_new,f)\n",
    "            if gain>maxgain:\n",
    "                maxgain=gain\n",
    "                best_feature=f\n",
    "                \n",
    "        # find number of mistakes in this subset \n",
    "        # if we predict the most common y as the output\n",
    "        # find sum of all these mistakes\n",
    "        # update best feature so that that particular feature\n",
    "        # makes least number of mistakes\n",
    "    \n",
    "    # here you should know the best feature\n",
    "    # print it out\n",
    "    \n",
    "    print(\"level=\",level)\n",
    "    \n",
    "    for i in set(df_new.target):\n",
    "        print(\"count of \",str(i) ,\"=\",df_new[df_new['target']==i].target.count())\n",
    "    print(\"Current Entropy is \",Entropy(df_new,best_feature))\n",
    "    print(\"splitting on feature \", best_feature,\" with gain ratio \",maxgain)\n",
    "    print()\n",
    "    \n",
    "    unused_features.remove(best_feature)\n",
    "    \n",
    "    for i in set(df_new[best_feature]):\n",
    "        sp=df_new.loc[df_new[best_feature]==i]\n",
    "        print(\"No. of \",i,df_new[df_new[best_feature]==i].target.count())\n",
    "        build_tree(sp,unused_features,level+1)\n",
    "        print() \n"
   ]
  },
  {
   "cell_type": "code",
   "execution_count": 15,
   "metadata": {},
   "outputs": [
    {
     "name": "stdout",
     "output_type": "stream",
     "text": [
      "level= 0\n",
      "count of  0 = 50\n",
      "count of  1 = 50\n",
      "count of  2 = 50\n",
      "Current Entropy is  1.584962500721156\n",
      "splitting on feature  pw_labeled  with gain ratio  0.699638203622209\n",
      "\n",
      "No. of  d 34\n",
      "level: 1\n",
      "count of  2 = 34\n",
      "Current Entropy is =  0.0\n",
      "Reached leaf Node\n",
      "\n",
      "\n",
      "No. of  a 50\n",
      "level: 1\n",
      "count of  0 = 50\n",
      "Current Entropy is =  0.0\n",
      "Reached leaf Node\n",
      "\n",
      "\n",
      "No. of  b 10\n",
      "level: 1\n",
      "count of  1 = 10\n",
      "Current Entropy is =  0.0\n",
      "Reached leaf Node\n",
      "\n",
      "\n",
      "No. of  c 56\n",
      "level= 1\n",
      "count of  1 = 40\n",
      "count of  2 = 16\n",
      "Current Entropy is  0.863120568566631\n",
      "splitting on feature  pl_labeled  with gain ratio  0.8228359169584532\n",
      "\n",
      "No. of  d 8\n",
      "level: 2\n",
      "count of  2 = 8\n",
      "Current Entropy is =  0.0\n",
      "Reached leaf Node\n",
      "\n",
      "\n",
      "No. of  b 1\n",
      "level: 2\n",
      "count of  1 = 1\n",
      "Current Entropy is =  0.0\n",
      "Reached leaf Node\n",
      "\n",
      "\n",
      "No. of  c 47\n",
      "level= 2\n",
      "count of  1 = 39\n",
      "count of  2 = 8\n",
      "Current Entropy is  0.6581912658132185\n",
      "splitting on feature  sl_labeled  with gain ratio  0.5480381479602677\n",
      "\n",
      "No. of  d 2\n",
      "level: 3\n",
      "count of  1 = 2\n",
      "Current Entropy is =  0.0\n",
      "Reached leaf Node\n",
      "\n",
      "\n",
      "No. of  a 1\n",
      "level: 3\n",
      "count of  2 = 1\n",
      "Current Entropy is =  0.0\n",
      "Reached leaf Node\n",
      "\n",
      "\n",
      "No. of  b 14\n",
      "level: 3\n",
      "count of  1 = 14\n",
      "Current Entropy is =  0.0\n",
      "Reached leaf Node\n",
      "\n",
      "\n",
      "No. of  c 30\n",
      "level= 3\n",
      "count of  1 = 23\n",
      "count of  2 = 7\n",
      "Current Entropy is  0.783776947484701\n",
      "splitting on feature  sw_labeled  with gain ratio  0.9044054138084545\n",
      "\n",
      "No. of  a 4\n",
      "level: 4\n",
      "count of  1 = 3\n",
      "count of  2 = 1\n",
      "Current Entropy is =  0.0\n",
      "Reached leaf Node\n",
      "\n",
      "\n",
      "No. of  b 20\n",
      "level: 4\n",
      "count of  1 = 14\n",
      "count of  2 = 6\n",
      "Current Entropy is =  0.0\n",
      "Reached leaf Node\n",
      "\n",
      "\n",
      "No. of  c 6\n",
      "level: 4\n",
      "count of  1 = 6\n",
      "Current Entropy is =  0.0\n",
      "Reached leaf Node\n",
      "\n",
      "\n",
      "\n",
      "\n",
      "\n"
     ]
    }
   ],
   "source": [
    "build_tree(df_new,list(df_new.columns[:-1]),0)"
   ]
  },
  {
   "cell_type": "code",
   "execution_count": 16,
   "metadata": {},
   "outputs": [],
   "source": [
    "def bestfeature(df_new, unused_features):\n",
    "    if len(set(df_new[\"target\"]))==1:\n",
    "        return -1\n",
    "    if len(unused_features=0):\n",
    "        return -1\n",
    "    best_feature = \"\"\n",
    "    maxgain=-1000\n",
    "    for f in unused_features:\n",
    "        possible_values = set(df_new[f])\n",
    "        for val in possible_values:\n",
    "            sd=df_new[df_new[f]==val]     \n",
    "            gain=Gain_ratio(df_new,f)\n",
    "            if gain>maxgain:\n",
    "                maxgain=gain\n",
    "                best_feature=f\n",
    "    unused_features.remove(best_feature)\n",
    "    for i in set(df_new[best_feature]):\n",
    "        sp=df_new.loc[df_new[best_feature]==i]\n",
    "#         print(\"No. of \",i,df_new[df_new[best_feature]==i].target.count())\n",
    "        bestfeature(sp,unused_features)\n",
    "#         print() "
   ]
  },
  {
   "cell_type": "code",
   "execution_count": 17,
   "metadata": {},
   "outputs": [],
   "source": [
    "class TreeNode:\n",
    "    def __init__(self,df):\n",
    "        self.dataframe=df\n",
    "        self.splits=[]\n",
    "        self.counts={}\n",
    "        self.entropy=0\n",
    "        self.gain_ratio=0\n",
    "        self.bestfeature=None\n",
    "        self.unused_features=None\n",
    "    def Bestfeature_cls(self,df_new,unused_features):\n",
    "        if len(set(self.dataframe[\"target\"]))==1:\n",
    "            return \"\",0\n",
    "        if len(unused_features)==0:\n",
    "            return \"\",0\n",
    "        best_feature = \"\"\n",
    "        maxgain=-1000\n",
    "        for f in unused_features:\n",
    "            possible_values = set(self.dataframe[f])\n",
    "            for val in possible_values:\n",
    "                sd=self.dataframe[self.dataframe[f]==val]     \n",
    "                gain=self.Gain_ratio_cls(f)\n",
    "                if gain>maxgain:\n",
    "                    maxgain=gain\n",
    "                    best_feature=f\n",
    "        return best_feature,maxgain\n",
    "    def Entropy_cls(self,df_new,feature):\n",
    "        self.entropy=0\n",
    "        Total_val=df_new.target.count()\n",
    "\n",
    "        for i in set(df_new[\"target\"]):\n",
    "            i_group_counts=df_new[df_new[\"target\"]==i].target.count()\n",
    "            if i_group_counts!=0:\n",
    "                self.entropy+=-((i_group_counts/Total_val)*(math.log(i_group_counts/Total_val,2)))\n",
    "\n",
    "        return self.entropy\n",
    "    def Gain_ratio_cls(self,feature):\n",
    "        orig_en=Entropy(self.dataframe,feature)\n",
    "        info_gain=0\n",
    "        split_info=0\n",
    "        ol=self.dataframe.target.count()\n",
    "        xn=0\n",
    "        for i in set(self.dataframe[feature]):\n",
    "            op=self.dataframe[self.dataframe[feature]==i]\n",
    "            lp=op.target.count()\n",
    "            split_info+=-(lp/ol)*math.log(lp/ol,2)\n",
    "            xn+=(lp/ol)*(self.Entropy_cls(op,i))\n",
    "        if split_info==0:\n",
    "            return 0\n",
    "        else:\n",
    "             return (orig_en-xn)/split_info\n"
   ]
  },
  {
   "cell_type": "code",
   "execution_count": 18,
   "metadata": {},
   "outputs": [],
   "source": [
    "def makeTree(df_data,unused_featuress):\n",
    "    root=TreeNode(df_data)\n",
    "    root.bestfeature,root.gain_ratio=root.Bestfeature_cls(df_data,unused_featuress)\n",
    "    if root.gain_ratio==0:\n",
    "        for cls in set(root.dataframe['target']):\n",
    "            root.counts[cls]=(root.dataframe[root.dataframe['target']==cls]).target.count()\n",
    "        return root\n",
    "    root.unused_features=unused_featuress\n",
    "    root.entropy=root.Entropy_cls(df_data,root.bestfeature)\n",
    "    \n",
    "    for cls in set(root.dataframe['target']):\n",
    "        root.counts[cls]=(root.dataframe[root.dataframe['target']==cls]).target.count()\n",
    "        \n",
    "    unused_featuress.remove(root.bestfeature)\n",
    "    \n",
    "    for group in set(root.dataframe[root.bestfeature]):\n",
    "        groupdata=root.dataframe[root.dataframe[root.bestfeature]==group]\n",
    "        split=makeTree(groupdata,unused_featuress)\n",
    "        root.splits.append(split)\n",
    "    return root\n",
    "            "
   ]
  },
  {
   "cell_type": "code",
   "execution_count": 19,
   "metadata": {},
   "outputs": [],
   "source": [
    "root=makeTree(df_new,list(df_new.columns[:-1]))\n",
    "def print_Tree(root,level):\n",
    "    if root==None or len(set(root.dataframe[\"target\"]))==1:\n",
    "        print(\"level:\",level)\n",
    "        for i in root.counts:\n",
    "            print(\"count \",i,'=',root.counts[i])\n",
    "        print(\"Current Entropy is = \",0.0)   \n",
    "        print(\"Reached leaf Node\")\n",
    "        print()\n",
    "        return \n",
    "    if root.unused_features is None:\n",
    "        print(\"level:\",level)\n",
    "        for i in root.counts:\n",
    "            print(\"count \",i,'=',root.counts[i])\n",
    "        print(\"Current Entropy is = \",0.0)   \n",
    "        print(\"Reached leaf Node\")\n",
    "        print()\n",
    "        return \n",
    "    print('level',level)\n",
    "    for i in root.counts:\n",
    "        print(\"count \",i,'=',root.counts[i])\n",
    "        \n",
    "    print('Current Entropy is :',root.entropy)\n",
    "    print(\"splitting on feature \", root.bestfeature,\" with gain ratio \",root.gain_ratio)\n",
    "    print()\n",
    "    for split in root.splits:\n",
    "        print_Tree(split,level+1)"
   ]
  },
  {
   "cell_type": "code",
   "execution_count": 20,
   "metadata": {},
   "outputs": [
    {
     "name": "stdout",
     "output_type": "stream",
     "text": [
      "level 0\n",
      "count  0 = 50\n",
      "count  1 = 50\n",
      "count  2 = 50\n",
      "Current Entropy is : 1.584962500721156\n",
      "splitting on feature  pw_labeled  with gain ratio  0.699638203622209\n",
      "\n",
      "level: 1\n",
      "count  2 = 34\n",
      "Current Entropy is =  0.0\n",
      "Reached leaf Node\n",
      "\n",
      "level: 1\n",
      "count  0 = 50\n",
      "Current Entropy is =  0.0\n",
      "Reached leaf Node\n",
      "\n",
      "level: 1\n",
      "count  1 = 10\n",
      "Current Entropy is =  0.0\n",
      "Reached leaf Node\n",
      "\n",
      "level 1\n",
      "count  1 = 40\n",
      "count  2 = 16\n",
      "Current Entropy is : 0.863120568566631\n",
      "splitting on feature  pl_labeled  with gain ratio  0.4334099495621066\n",
      "\n",
      "level: 2\n",
      "count  2 = 8\n",
      "Current Entropy is =  0.0\n",
      "Reached leaf Node\n",
      "\n",
      "level: 2\n",
      "count  1 = 1\n",
      "Current Entropy is =  0.0\n",
      "Reached leaf Node\n",
      "\n",
      "level 2\n",
      "count  1 = 39\n",
      "count  2 = 8\n",
      "Current Entropy is : 0.6581912658132185\n",
      "splitting on feature  sl_labeled  with gain ratio  0.12674503775809332\n",
      "\n",
      "level: 3\n",
      "count  1 = 2\n",
      "Current Entropy is =  0.0\n",
      "Reached leaf Node\n",
      "\n",
      "level: 3\n",
      "count  2 = 1\n",
      "Current Entropy is =  0.0\n",
      "Reached leaf Node\n",
      "\n",
      "level: 3\n",
      "count  1 = 14\n",
      "Current Entropy is =  0.0\n",
      "Reached leaf Node\n",
      "\n",
      "level 3\n",
      "count  1 = 23\n",
      "count  2 = 7\n",
      "Current Entropy is : 0.783776947484701\n",
      "splitting on feature  sw_labeled  with gain ratio  0.07092036405148876\n",
      "\n",
      "level: 4\n",
      "count  1 = 3\n",
      "count  2 = 1\n",
      "Current Entropy is =  0.0\n",
      "Reached leaf Node\n",
      "\n",
      "level: 4\n",
      "count  1 = 14\n",
      "count  2 = 6\n",
      "Current Entropy is =  0.0\n",
      "Reached leaf Node\n",
      "\n",
      "level: 4\n",
      "count  1 = 6\n",
      "Current Entropy is =  0.0\n",
      "Reached leaf Node\n",
      "\n"
     ]
    }
   ],
   "source": [
    "print_Tree(root,0)"
   ]
  },
  {
   "cell_type": "code",
   "execution_count": 21,
   "metadata": {},
   "outputs": [
    {
     "name": "stdout",
     "output_type": "stream",
     "text": [
      "['sl_labeled', 'sw_labeled', 'pl_labeled', 'pw_labeled']\n"
     ]
    }
   ],
   "source": [
    "print(list(df_new.columns[:-1]))"
   ]
  },
  {
   "cell_type": "code",
   "execution_count": null,
   "metadata": {},
   "outputs": [],
   "source": []
  }
 ],
 "metadata": {
  "kernelspec": {
   "display_name": "Python 3",
   "language": "python",
   "name": "python3"
  },
  "language_info": {
   "codemirror_mode": {
    "name": "ipython",
    "version": 3
   },
   "file_extension": ".py",
   "mimetype": "text/x-python",
   "name": "python",
   "nbconvert_exporter": "python",
   "pygments_lexer": "ipython3",
   "version": "3.7.4"
  }
 },
 "nbformat": 4,
 "nbformat_minor": 2
}
