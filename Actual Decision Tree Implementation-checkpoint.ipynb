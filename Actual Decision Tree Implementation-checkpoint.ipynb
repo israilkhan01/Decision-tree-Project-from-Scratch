{
 "cells": [
  {
   "cell_type": "markdown",
   "metadata": {},
   "source": [
    "# Decision Trees Project using iris data set"
   ]
  },
  {
   "cell_type": "markdown",
   "metadata": {},
   "source": [
    "#Decision Trees are a non-parametric supervised learning method used for both classification and regression tasks. The goal is to create a model that predicts the value of a target variable by learning simple decision rules inferred from the data features."
   ]
  },
  {
   "cell_type": "markdown",
   "metadata": {},
   "source": [
    "Importing datasets module from sklearn"
   ]
  },
  {
   "cell_type": "code",
   "execution_count": 1,
   "metadata": {},
   "outputs": [],
   "source": [
    "from sklearn import datasets\n",
    "import pandas as pd"
   ]
  },
  {
   "cell_type": "markdown",
   "metadata": {},
   "source": [
    "loading iris dataset"
   ]
  },
  {
   "cell_type": "code",
   "execution_count": 2,
   "metadata": {},
   "outputs": [],
   "source": [
    "iris=datasets.load_iris()"
   ]
  },
  {
   "cell_type": "markdown",
   "metadata": {},
   "source": [
    "A Data frame is a two-dimensional data structure, i.e., data is aligned in a tabular fashion in rows and columns."
   ]
  },
  {
   "cell_type": "code",
   "execution_count": 3,
   "metadata": {},
   "outputs": [
    {
     "name": "stdout",
     "output_type": "stream",
     "text": [
      "sl\n",
      "sw\n",
      "pl\n",
      "pw\n"
     ]
    }
   ],
   "source": [
    "df=pd.DataFrame(iris.data)   #Loding data in DATAFrame\n",
    "df.columns=[\"sl\", \"sw\", 'pl', 'pw']     # defining label of  Featured coloums in above iris data sets\n",
    "x=list(df.columns)      \n",
    "for i in x:\n",
    "    print(i)"
   ]
  },
  {
   "cell_type": "markdown",
   "metadata": {},
   "source": [
    "Creating a dataframe of Target values using pandas.Dataframe"
   ]
  },
  {
   "cell_type": "code",
   "execution_count": 4,
   "metadata": {},
   "outputs": [
    {
     "name": "stdout",
     "output_type": "stream",
     "text": [
      "   target\n",
      "0       0\n",
      "1       0\n",
      "2       0\n",
      "3       0\n",
      "4       0\n"
     ]
    }
   ],
   "source": [
    "\n",
    "y=pd.DataFrame(iris.target)  #y contain target values\n",
    "y.columns=[\"target\"]\n",
    "print(y.head())"
   ]
  },
  {
   "cell_type": "markdown",
   "metadata": {},
   "source": [
    "Function to convert Continous data into labelled data"
   ]
  },
  {
   "cell_type": "code",
   "execution_count": 5,
   "metadata": {},
   "outputs": [],
   "source": [
    "#Function to find label for a value\n",
    "#if MIN_Value <=val < (m + Mean_Value) / 2 then it is assigned label a\n",
    "#if (m + Mean_Value) <=val < Mean_Value then it is assigned label b\n",
    "#if (Mean_Value) <=val < (Mean_Value + MAX_Value)/2 then it is assigned label c\n",
    "#if (Mean_Value + MAX_Value)/2 <=val <= MAX_Value  then it is assigned label d\n",
    "\n",
    "def label(val, *boundaries):                   #Function to convert a continuous data into labelled data\n",
    "    if (val < boundaries[0]):                   #There are 4 lables  - a, b, c, d\n",
    "        return 'a'\n",
    "    elif (val < boundaries[1]):\n",
    "        return 'b'\n",
    "    elif (val < boundaries[2]):\n",
    "        return 'c'\n",
    "    else:\n",
    "        return 'd'\n",
    "\n",
    "#Function to convert a continuous data into labelled data\n",
    "#There are 4 lables  - a, b, c, d\n",
    "def toLabel(df, old_feature_name):\n",
    "    second = df[old_feature_name].mean()\n",
    "    minimum = df[old_feature_name].min()\n",
    "    first = (minimum + second)/2\n",
    "    maximum = df[old_feature_name].max()\n",
    "    third = (maximum + second)/2\n",
    "    return df[old_feature_name].apply(label, args= (first, second, third))"
   ]
  },
  {
   "cell_type": "markdown",
   "metadata": {},
   "source": [
    "Adding columns of all converted labelled  data to the dataframe df"
   ]
  },
  {
   "cell_type": "code",
   "execution_count": 6,
   "metadata": {},
   "outputs": [],
   "source": [
    "#Convert all columns to labelled data\n",
    "\n",
    "df['sl_labeled'] = toLabel(df, 'sl')\n",
    "df['sw_labeled'] = toLabel(df, 'sw')\n",
    "df['pl_labeled'] = toLabel(df, 'pl')\n",
    "df['pw_labeled'] = toLabel(df, 'pw')\n",
    "\n"
   ]
  },
  {
   "cell_type": "markdown",
   "metadata": {},
   "source": [
    "Concatinating target values with the data frame"
   ]
  },
  {
   "cell_type": "code",
   "execution_count": 7,
   "metadata": {},
   "outputs": [
    {
     "data": {
      "text/html": [
       "<div>\n",
       "<style scoped>\n",
       "    .dataframe tbody tr th:only-of-type {\n",
       "        vertical-align: middle;\n",
       "    }\n",
       "\n",
       "    .dataframe tbody tr th {\n",
       "        vertical-align: top;\n",
       "    }\n",
       "\n",
       "    .dataframe thead th {\n",
       "        text-align: right;\n",
       "    }\n",
       "</style>\n",
       "<table border=\"1\" class=\"dataframe\">\n",
       "  <thead>\n",
       "    <tr style=\"text-align: right;\">\n",
       "      <th></th>\n",
       "      <th>sl</th>\n",
       "      <th>sw</th>\n",
       "      <th>pl</th>\n",
       "      <th>pw</th>\n",
       "      <th>sl_labeled</th>\n",
       "      <th>sw_labeled</th>\n",
       "      <th>pl_labeled</th>\n",
       "      <th>pw_labeled</th>\n",
       "      <th>target</th>\n",
       "    </tr>\n",
       "  </thead>\n",
       "  <tbody>\n",
       "    <tr>\n",
       "      <th>0</th>\n",
       "      <td>5.1</td>\n",
       "      <td>3.5</td>\n",
       "      <td>1.4</td>\n",
       "      <td>0.2</td>\n",
       "      <td>b</td>\n",
       "      <td>c</td>\n",
       "      <td>a</td>\n",
       "      <td>a</td>\n",
       "      <td>0</td>\n",
       "    </tr>\n",
       "    <tr>\n",
       "      <th>1</th>\n",
       "      <td>4.9</td>\n",
       "      <td>3.0</td>\n",
       "      <td>1.4</td>\n",
       "      <td>0.2</td>\n",
       "      <td>a</td>\n",
       "      <td>b</td>\n",
       "      <td>a</td>\n",
       "      <td>a</td>\n",
       "      <td>0</td>\n",
       "    </tr>\n",
       "    <tr>\n",
       "      <th>2</th>\n",
       "      <td>4.7</td>\n",
       "      <td>3.2</td>\n",
       "      <td>1.3</td>\n",
       "      <td>0.2</td>\n",
       "      <td>a</td>\n",
       "      <td>c</td>\n",
       "      <td>a</td>\n",
       "      <td>a</td>\n",
       "      <td>0</td>\n",
       "    </tr>\n",
       "    <tr>\n",
       "      <th>3</th>\n",
       "      <td>4.6</td>\n",
       "      <td>3.1</td>\n",
       "      <td>1.5</td>\n",
       "      <td>0.2</td>\n",
       "      <td>a</td>\n",
       "      <td>c</td>\n",
       "      <td>a</td>\n",
       "      <td>a</td>\n",
       "      <td>0</td>\n",
       "    </tr>\n",
       "    <tr>\n",
       "      <th>4</th>\n",
       "      <td>5.0</td>\n",
       "      <td>3.6</td>\n",
       "      <td>1.4</td>\n",
       "      <td>0.2</td>\n",
       "      <td>a</td>\n",
       "      <td>c</td>\n",
       "      <td>a</td>\n",
       "      <td>a</td>\n",
       "      <td>0</td>\n",
       "    </tr>\n",
       "  </tbody>\n",
       "</table>\n",
       "</div>"
      ],
      "text/plain": [
       "    sl   sw   pl   pw sl_labeled sw_labeled pl_labeled pw_labeled  target\n",
       "0  5.1  3.5  1.4  0.2          b          c          a          a       0\n",
       "1  4.9  3.0  1.4  0.2          a          b          a          a       0\n",
       "2  4.7  3.2  1.3  0.2          a          c          a          a       0\n",
       "3  4.6  3.1  1.5  0.2          a          c          a          a       0\n",
       "4  5.0  3.6  1.4  0.2          a          c          a          a       0"
      ]
     },
     "execution_count": 7,
     "metadata": {},
     "output_type": "execute_result"
    }
   ],
   "source": [
    "df[\"target\"]=iris.target\n",
    "df.head()"
   ]
  },
  {
   "cell_type": "markdown",
   "metadata": {},
   "source": [
    "Deleting the all continous Data columns from the df(Data Frame)"
   ]
  },
  {
   "cell_type": "code",
   "execution_count": 8,
   "metadata": {},
   "outputs": [
    {
     "data": {
      "text/html": [
       "<div>\n",
       "<style scoped>\n",
       "    .dataframe tbody tr th:only-of-type {\n",
       "        vertical-align: middle;\n",
       "    }\n",
       "\n",
       "    .dataframe tbody tr th {\n",
       "        vertical-align: top;\n",
       "    }\n",
       "\n",
       "    .dataframe thead th {\n",
       "        text-align: right;\n",
       "    }\n",
       "</style>\n",
       "<table border=\"1\" class=\"dataframe\">\n",
       "  <thead>\n",
       "    <tr style=\"text-align: right;\">\n",
       "      <th></th>\n",
       "      <th>sl_labeled</th>\n",
       "      <th>sw_labeled</th>\n",
       "      <th>pl_labeled</th>\n",
       "      <th>pw_labeled</th>\n",
       "      <th>target</th>\n",
       "    </tr>\n",
       "  </thead>\n",
       "  <tbody>\n",
       "    <tr>\n",
       "      <th>0</th>\n",
       "      <td>b</td>\n",
       "      <td>c</td>\n",
       "      <td>a</td>\n",
       "      <td>a</td>\n",
       "      <td>0</td>\n",
       "    </tr>\n",
       "    <tr>\n",
       "      <th>1</th>\n",
       "      <td>a</td>\n",
       "      <td>b</td>\n",
       "      <td>a</td>\n",
       "      <td>a</td>\n",
       "      <td>0</td>\n",
       "    </tr>\n",
       "    <tr>\n",
       "      <th>2</th>\n",
       "      <td>a</td>\n",
       "      <td>c</td>\n",
       "      <td>a</td>\n",
       "      <td>a</td>\n",
       "      <td>0</td>\n",
       "    </tr>\n",
       "    <tr>\n",
       "      <th>3</th>\n",
       "      <td>a</td>\n",
       "      <td>c</td>\n",
       "      <td>a</td>\n",
       "      <td>a</td>\n",
       "      <td>0</td>\n",
       "    </tr>\n",
       "    <tr>\n",
       "      <th>4</th>\n",
       "      <td>a</td>\n",
       "      <td>c</td>\n",
       "      <td>a</td>\n",
       "      <td>a</td>\n",
       "      <td>0</td>\n",
       "    </tr>\n",
       "  </tbody>\n",
       "</table>\n",
       "</div>"
      ],
      "text/plain": [
       "  sl_labeled sw_labeled pl_labeled pw_labeled  target\n",
       "0          b          c          a          a       0\n",
       "1          a          b          a          a       0\n",
       "2          a          c          a          a       0\n",
       "3          a          c          a          a       0\n",
       "4          a          c          a          a       0"
      ]
     },
     "execution_count": 8,
     "metadata": {},
     "output_type": "execute_result"
    }
   ],
   "source": [
    "del df[\"sl\"]\n",
    "del df[\"sw\"]\n",
    "del df[\"pl\"]\n",
    "del df[\"pw\"]\n",
    "df.head()"
   ]
  },
  {
   "cell_type": "markdown",
   "metadata": {},
   "source": [
    "creating a copy of original df(dataFrame) "
   ]
  },
  {
   "cell_type": "code",
   "execution_count": 9,
   "metadata": {},
   "outputs": [],
   "source": [
    "df_new=df.copy() #df_new is copy of df(DataFrame)"
   ]
  },
  {
   "cell_type": "markdown",
   "metadata": {},
   "source": [
    "Importing math Module for further logical calclations"
   ]
  },
  {
   "cell_type": "code",
   "execution_count": 10,
   "metadata": {},
   "outputs": [],
   "source": [
    "import math"
   ]
  },
  {
   "cell_type": "markdown",
   "metadata": {},
   "source": [
    "# Actual Tree Node"
   ]
  },
  {
   "cell_type": "markdown",
   "metadata": {},
   "source": [
    "Here we use the Concept of Generic Trees"
   ]
  },
  {
   "cell_type": "markdown",
   "metadata": {},
   "source": [
    "Created the class Named TreeNode which contains the following member funtions:##\n"
   ]
  },
  {
   "cell_type": "markdown",
   "metadata": {},
   "source": [
    "__init_(): It is the constructor of the class (TreeNode) which contains the following attributes to implement our Decision Tree "
   ]
  },
  {
   "cell_type": "markdown",
   "metadata": {},
   "source": [
    "Bestfeature_cls() : This Member function contains the two arguements that as an input one is self (object) and another is    data frame of that Node.This function return the Two values which are best feature upon which the data should be split and its max gainratio  maximum gain."
   ]
  },
  {
   "cell_type": "markdown",
   "metadata": {},
   "source": [
    "Entropy_cls(): A decision tree is built top-down from a root node and involves partitioning the data into subsets that contain instances with similar values (homogeneous).\n"
   ]
  },
  {
   "cell_type": "markdown",
   "metadata": {},
   "source": [
    "Gain_ratio_cls: Returns the gain ratio of a particular Current Node for a given tree "
   ]
  },
  {
   "cell_type": "markdown",
   "metadata": {},
   "source": [
    "Gain Ratio:In decision tree learning, Information gain ratio is a ratio of information gain to the intrinsic information. It was proposed by Ross Quinlan, to reduce a bias towards multi-valued attributes by taking the number and size of branches into account when choosing an attribute."
   ]
  },
  {
   "cell_type": "code",
   "execution_count": 11,
   "metadata": {},
   "outputs": [],
   "source": [
    "class TreeNode:\n",
    "    def __init__(self,df):\n",
    "        \n",
    "        self.dataframe=df  # This attribute contains the remaining Data Frame of each particular Node respectively.\n",
    "        \n",
    "        self.splits=[] #splits is an list type attribute contains the each child(splited data) of a paritular Node.\n",
    "        \n",
    "        self.counts={}  #counts is a Dictionary type attribute which have (0,1,2) as keys and their corresponding \n",
    "                               #values are counts of each class like  eg.(50 0's,50 1's,50 2's).\n",
    "        \n",
    "        self.entropy=0  #entropy contains the Entropy of particular Node.\n",
    "        \n",
    "        self.gain_ratio=0  #This attributes contains the maximum gain ratio of the feature we furthur split upon.\n",
    "        \n",
    "        self.bestfeature=None   # This contains the feature such that we split on it that gives the maximum gain ratio.\n",
    "        \n",
    "        self.unused_features=None  #This contains the features upon which we have not yet splitted our Data\n",
    "    \n",
    "    \n",
    "    #   Bestfeature_cls:\n",
    "    #           This Member function contains the two arguements that as an  one is self (object) and another is dataframe\n",
    "    #   of that Node.This function return the Two values which are best feature upon which the data should be split\n",
    "    #   and its max gainratio maximum gain.\n",
    "    def Bestfeature_cls(self,unused_features):\n",
    "        if len(set(self.dataframe[\"target\"]))==1:\n",
    "            return \"\",0\n",
    "        if len(unused_features)==0:\n",
    "            return \"\",0\n",
    "        best_feature = \"\"\n",
    "        maxgain=-1000\n",
    "        for f in unused_features:\n",
    "            possible_values = set(self.dataframe[f])\n",
    "            for val in possible_values:\n",
    "                sd=self.dataframe[self.dataframe[f]==val]     \n",
    "                gain=self.Gain_ratio_cls(f)\n",
    "#                 print(val,gain)\n",
    "                if gain>maxgain:\n",
    "                    maxgain=gain\n",
    "                    best_feature=f\n",
    "        return best_feature,maxgain\n",
    "    \n",
    "    \n",
    "    #Entropy_cls:\n",
    "    #  This member function returns the Entropy for  each particular Node.\n",
    "    def Entropy_cls(self,df_new,feature):\n",
    "        \n",
    "        self.entropy=0   #initiallization\n",
    "        \n",
    "        Total_val=df_new.target.count()  # Total_val represents:\n",
    "                                         #     total no. of target data points used in finding probality for each class i.\n",
    "         # i represents each class (0's,1's,2's).\n",
    "        for i in set(df_new[\"target\"]):\n",
    "            \n",
    "            i_group_counts=df_new[df_new[\"target\"]==i].target.count()  #  i_group-counts represents total no.of i's in this dataframe.\n",
    "            \n",
    "            if i_group_counts!=0:   # if any i_groups_counts is zero then entropy will be zero and if non-zero val then this \n",
    "                                    # formula is used \n",
    "                self.entropy+=-((i_group_counts/Total_val)*(math.log(i_group_counts/Total_val,2)))\n",
    "        \n",
    "        return self.entropy   #this is the Entropy of the  current dataset\n",
    "    \n",
    "    #Gain_ratio_cls:\n",
    "    # This Member function returns the Gain ratio of a particular split\n",
    "    def Gain_ratio_cls(self,feature):\n",
    "        \n",
    "        orig_en=self.Entropy_cls(self.dataframe,feature) #orig_en contains the entropy of the or say contains the orignal\n",
    "                                                              #information of the current node data\n",
    "        \n",
    "        info_gain=0                        #initially info_gain (information gain)is initialised to zero\n",
    "        \n",
    "        split_info=0                       # split Info is initialised to be zero\n",
    "        \n",
    "        ol=self.dataframe.target.count()  # ol this varibale contains the total no. of target values of the Dataframe which  \n",
    "                                        # is used as denominator in the probability function\n",
    "        xn=0          #  xn represents the Total sum of each information of the splitted  of current Node after splitting\n",
    "        \n",
    "        # here i represents the labelled data (a,b,c,d) which represents the splitting\n",
    "        for i in set(self.dataframe[feature]):\n",
    "            \n",
    "            op=self.dataframe[self.dataframe[feature]==i]   #op is the dataset corresponding to the ith labelled group\n",
    "            \n",
    "            lp=op.target.count()                            # total no. of datapoints of each particular ith labelled data\n",
    "            \n",
    "            split_info+=-(lp/ol)*math.log(lp/ol,2)       # split information of the current data set\n",
    "            \n",
    "            xn+=(lp/ol)*(self.Entropy_cls(op,i))        # Information of each ith splitted features\n",
    "        if split_info==0:      \n",
    "            return 0\n",
    "        else:\n",
    "             return (orig_en-xn)/split_info   # Here (orig_en-xn) represents the split info of the current dataset\n",
    "                                                                         #                    ( or current data)\n"
   ]
  },
  {
   "cell_type": "markdown",
   "metadata": {},
   "source": [
    "MakeTree Function : This is the recursive function which returns the ROOT of irisData which is well splitted on the features that have the maximum gain ratio of each level"
   ]
  },
  {
   "cell_type": "markdown",
   "metadata": {},
   "source": [
    "This function is an Input function for the (Decision Tree implementation) using Class TreeNode"
   ]
  },
  {
   "cell_type": "code",
   "execution_count": 12,
   "metadata": {},
   "outputs": [],
   "source": [
    "def makeTree(df_data,unused_featuress):\n",
    "    #Creating a Node of a Decesion Tree at a particular Level by calling on constructor\n",
    "    root=TreeNode(df_data)\n",
    "    \n",
    "     #Bestfeature_cls returns the two things one is Best feature and second is gain ratio of that feature.\n",
    "    root.bestfeature,root.gain_ratio=root.Bestfeature_cls(unused_featuress) \n",
    "    \n",
    "    # if gain_ratio is zero that means tree reached to leaf Node.\n",
    "    if root.gain_ratio==0:\n",
    "        \n",
    "        #this loop take an input to the counts(an dictionary of a current Node the total no. of data points contained by each corresponding cls (class).\n",
    "        for cls in set(root.dataframe['target']): \n",
    "            root.counts[cls]=(root.dataframe[root.dataframe['target']==cls]).target.count()\n",
    "            \n",
    "        #returning leaf Node\n",
    "        return root \n",
    "    \n",
    "    # unused_feature attribute which contains an array of unused  features.\n",
    "    root.unused_features=unused_featuress\n",
    "    \n",
    "    #entropy of current Node\n",
    "    root.entropy=root.Entropy_cls(df_data,root.bestfeature)\n",
    "    \n",
    "    \n",
    "    #this loop take an input to the counts(an dictionary of a current Node the total no. of data points contained by each corresponding cls (class).   \n",
    "    for cls in set(root.dataframe['target']): \n",
    "        root.counts[cls]=(root.dataframe[root.dataframe['target']==cls]).target.count()\n",
    "        \n",
    "    # Removing the  best feature from the unused features for further splitting\n",
    "    unused_featuress.remove(root.bestfeature)\n",
    "    \n",
    "    #group represent particular lable (i.e is from (a,b,c,d))\n",
    "    for group in set(root.dataframe[root.bestfeature]):\n",
    "        \n",
    "        # splitted data corresponding to each particular labelled.\n",
    "        groupdata=root.dataframe.loc[root.dataframe[root.bestfeature]==group] \n",
    "        \n",
    "        # split is a child(Node) of a corresponding parent  root Node.\n",
    "        split=makeTree(groupdata,unused_featuress)\n",
    "        \n",
    "        #appending the split (child Node) to the splits(array attribute which lead to the generic Tree formation)\n",
    "        root.splits.append(split)     \n",
    "        \n",
    "    # return each parential actual root\n",
    "    return root\n",
    "            "
   ]
  },
  {
   "cell_type": "markdown",
   "metadata": {},
   "source": [
    "print_Tree(): function is also a recursive funtion which enable us to print the all particular featured valued corresponding to each particular current  Node"
   ]
  },
  {
   "cell_type": "code",
   "execution_count": 14,
   "metadata": {},
   "outputs": [],
   "source": [
    "root=makeTree(df_new,list(df_new.columns[:-1]))   # Here root is the actual root corresponding to each level\n",
    "def print_Tree(root,level):\n",
    "    if root==None or len(set(root.dataframe[\"target\"]))==1:\n",
    "        print(\"level:\",level)\n",
    "        for i in root.counts:\n",
    "            print(\"count \",i,'=',root.counts[i])\n",
    "        print(\"Current Entropy is = \",0.0)   \n",
    "        print(\"Reached leaf Node\")\n",
    "        print()\n",
    "        return \n",
    "    if root.unused_features is None:\n",
    "        print(\"level:\",level)\n",
    "        for i in root.counts:\n",
    "            print(\"count \",i,'=',root.counts[i])\n",
    "        print(\"Current Entropy is = \",0.0)   \n",
    "        print(\"Reached leaf Node\")\n",
    "        print()\n",
    "        return \n",
    "    print('level',level)     #printing levels of a Tree\n",
    "    for i in root.counts:   # printing the class counts of each corresponding class\n",
    "        print(\"count \",i,'=',root.counts[i])\n",
    "        \n",
    "    print('Current Entropy is :',root.entropy)        #printing the Entropy of the current tree Node\n",
    "    print(\"splitting on feature \", root.bestfeature,\" with gain ratio \",root.gain_ratio)   #printing the statement for splliting on Best feature\n",
    "    print()\n",
    "    for split in root.splits:\n",
    "        print_Tree(split,level+1)     #calling recursion to print all the data of each paricular Level of Tree"
   ]
  },
  {
   "cell_type": "code",
   "execution_count": 15,
   "metadata": {},
   "outputs": [
    {
     "name": "stdout",
     "output_type": "stream",
     "text": [
      "level 0\n",
      "count  0 = 50\n",
      "count  1 = 50\n",
      "count  2 = 50\n",
      "Current Entropy is : 1.584962500721156\n",
      "splitting on feature  pw_labeled  with gain ratio  0.699638203622209\n",
      "\n",
      "level: 1\n",
      "count  2 = 34\n",
      "Current Entropy is =  0.0\n",
      "Reached leaf Node\n",
      "\n",
      "level: 1\n",
      "count  0 = 50\n",
      "Current Entropy is =  0.0\n",
      "Reached leaf Node\n",
      "\n",
      "level 1\n",
      "count  1 = 40\n",
      "count  2 = 16\n",
      "Current Entropy is : 0.863120568566631\n",
      "splitting on feature  pl_labeled  with gain ratio  0.4334099495621066\n",
      "\n",
      "level: 2\n",
      "count  2 = 8\n",
      "Current Entropy is =  0.0\n",
      "Reached leaf Node\n",
      "\n",
      "level 2\n",
      "count  1 = 39\n",
      "count  2 = 8\n",
      "Current Entropy is : 0.6581912658132185\n",
      "splitting on feature  sl_labeled  with gain ratio  0.12674503775809332\n",
      "\n",
      "level: 3\n",
      "count  1 = 2\n",
      "Current Entropy is =  0.0\n",
      "Reached leaf Node\n",
      "\n",
      "level: 3\n",
      "count  2 = 1\n",
      "Current Entropy is =  0.0\n",
      "Reached leaf Node\n",
      "\n",
      "level 3\n",
      "count  1 = 23\n",
      "count  2 = 7\n",
      "Current Entropy is : 0.783776947484701\n",
      "splitting on feature  sw_labeled  with gain ratio  0.07092036405148876\n",
      "\n",
      "level: 4\n",
      "count  1 = 3\n",
      "count  2 = 1\n",
      "Current Entropy is =  0.0\n",
      "Reached leaf Node\n",
      "\n",
      "level: 4\n",
      "count  1 = 6\n",
      "Current Entropy is =  0.0\n",
      "Reached leaf Node\n",
      "\n",
      "level: 4\n",
      "count  1 = 14\n",
      "count  2 = 6\n",
      "Current Entropy is =  0.0\n",
      "Reached leaf Node\n",
      "\n",
      "level: 3\n",
      "count  1 = 14\n",
      "Current Entropy is =  0.0\n",
      "Reached leaf Node\n",
      "\n",
      "level: 2\n",
      "count  1 = 1\n",
      "Current Entropy is =  0.0\n",
      "Reached leaf Node\n",
      "\n",
      "level: 1\n",
      "count  1 = 10\n",
      "Current Entropy is =  0.0\n",
      "Reached leaf Node\n",
      "\n"
     ]
    }
   ],
   "source": [
    "print_Tree(root,0)"
   ]
  },
  {
   "cell_type": "code",
   "execution_count": null,
   "metadata": {},
   "outputs": [],
   "source": []
  }
 ],
 "metadata": {
  "kernelspec": {
   "display_name": "Python 3",
   "language": "python",
   "name": "python3"
  },
  "language_info": {
   "codemirror_mode": {
    "name": "ipython",
    "version": 3
   },
   "file_extension": ".py",
   "mimetype": "text/x-python",
   "name": "python",
   "nbconvert_exporter": "python",
   "pygments_lexer": "ipython3",
   "version": "3.7.4"
  }
 },
 "nbformat": 4,
 "nbformat_minor": 2
}
